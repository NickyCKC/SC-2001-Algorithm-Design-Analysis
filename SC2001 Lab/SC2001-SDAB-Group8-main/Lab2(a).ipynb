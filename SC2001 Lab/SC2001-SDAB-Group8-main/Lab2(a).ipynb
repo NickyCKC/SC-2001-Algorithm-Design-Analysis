{
 "cells": [
  {
   "cell_type": "code",
   "execution_count": 1,
   "metadata": {},
   "outputs": [],
   "source": [
    "import numpy as np\n",
    "import time\n",
    "# Set the seed for reproducibility\n",
    "np.random.seed(42)"
   ]
  },
  {
   "cell_type": "code",
   "execution_count": 2,
   "metadata": {},
   "outputs": [],
   "source": [
    "# Dijkstra's algorithm with adjacency matrix and array-based priority queue\n",
    "def dijkstra_matrix_array(graph, source):\n",
    "    V = len(graph)\n",
    "    dist = [float('inf')] * V\n",
    "    dist[source] = 0\n",
    "    visited = [False] * V\n",
    "\n",
    "    for _ in range(V):\n",
    "        # Find the vertex with the minimum distance\n",
    "        min_dist = float('inf')\n",
    "        u = -1\n",
    "        for v in range(V):\n",
    "            if not visited[v] and dist[v] < min_dist:\n",
    "                min_dist = dist[v]\n",
    "                u = v\n",
    "        \n",
    "        if u == -1:\n",
    "            break  # All remaining vertices are inaccessible from the source\n",
    "\n",
    "        # Mark the picked vertex as visited\n",
    "        visited[u] = True\n",
    "\n",
    "        # Update distances for the neighbors of u\n",
    "        for v in range(V):\n",
    "            if graph[u][v] > 0 and not visited[v]:  # edge exists and v is unvisited\n",
    "                new_dist = dist[u] + graph[u][v]\n",
    "                if new_dist < dist[v]:\n",
    "                    dist[v] = new_dist\n",
    "    \n",
    "    return dist\n"
   ]
  },
  {
   "cell_type": "code",
   "execution_count": 3,
   "metadata": {},
   "outputs": [],
   "source": [
    "# Function to generate a random weighted graph as an adjacency matrix\n",
    "def generate_graph(V, density=0.5, max_weight=10):\n",
    "    graph = np.zeros((V, V), dtype=int)\n",
    "    for i in range(V):\n",
    "        for j in range(i+1, V):\n",
    "            if np.random.rand() < density:\n",
    "                weight = np.random.randint(1, max_weight)\n",
    "                graph[i][j] = weight\n",
    "                graph[j][i] = weight  # undirected graph\n",
    "    return graph"
   ]
  },
  {
   "cell_type": "code",
   "execution_count": 4,
   "metadata": {},
   "outputs": [
    {
     "name": "stdout",
     "output_type": "stream",
     "text": [
      "Graph size: 10, Time taken: 0.0001 seconds\n",
      "Graph size: 50, Time taken: 0.0010 seconds\n",
      "Graph size: 100, Time taken: 0.0044 seconds\n",
      "Graph size: 200, Time taken: 0.0132 seconds\n",
      "Graph size: 400, Time taken: 0.0724 seconds\n",
      "Graph size: 800, Time taken: 0.1417 seconds\n"
     ]
    }
   ],
   "source": [
    "# Testing Dijkstra's algorithm and measuring performance\n",
    "def test_dijkstra(V, density=0.5):\n",
    "    graph = generate_graph(V, density)\n",
    "    start_time = time.time()\n",
    "    dijkstra_matrix_array(graph, 0)\n",
    "    end_time = time.time()\n",
    "    return end_time - start_time\n",
    "\n",
    "# Run empirical tests for different graph sizes\n",
    "for V in [10, 50, 100, 200, 400, 800]:\n",
    "    duration = test_dijkstra(V, density=0.1)\n",
    "    print(f\"Graph size: {V}, Time taken: {duration:.4f} seconds\")"
   ]
  },
  {
   "cell_type": "code",
   "execution_count": 13,
   "metadata": {},
   "outputs": [
    {
     "name": "stdout",
     "output_type": "stream",
     "text": [
      "Density: 0.1, Time taken: 0.2175 seconds\n",
      "Density: 0.25, Time taken: 0.2333 seconds\n",
      "Density: 0.5, Time taken: 0.2596 seconds\n",
      "Density: 0.75, Time taken: 0.2973 seconds\n"
     ]
    }
   ],
   "source": [
    "# Run empirical tests for different graph sizes\n",
    "for density in [0.1, 0.25, 0.5, 0.75]:\n",
    "    duration = test_dijkstra(V=1000, density=density)\n",
    "    print(f\"Density: {density}, Time taken: {duration:.4f} seconds\")"
   ]
  },
  {
   "cell_type": "markdown",
   "metadata": {},
   "source": [
    "# Time Complexity Analysis of Dijkstra's Algorithm\n",
    "\n",
    "## Algorithm Components:\n",
    "\n",
    "1. Initialization\n",
    "2. Main loop\n",
    "   a. Finding the minimum distance vertex\n",
    "   b. Updating distances\n",
    "\n",
    "## Detailed Analysis:\n",
    "\n",
    "### 1. Initialization:\n",
    "- We initialize the `dist` and `visited` arrays.\n",
    "- Time complexity: O(V), where V is the number of vertices.\n",
    "\n",
    "### 2. Main Loop:\n",
    "The main loop runs V times, once for each vertex.\n",
    "\n",
    "#### a. Finding the minimum distance vertex:\n",
    "- We iterate through all vertices to find the unvisited vertex with the minimum distance.\n",
    "- Time complexity per iteration: O(V)\n",
    "- Total time complexity for this step: O(V) * O(V) = O(V²)\n",
    "\n",
    "#### b. Updating distances:\n",
    "- For each selected vertex, we check all possible neighbors (all V vertices in an adjacency matrix).\n",
    "- Time complexity per iteration: O(V)\n",
    "- Total time complexity for this step: O(V) * O(V) = O(V²)\n",
    "\n",
    "## Overall Time Complexity:\n",
    "\n",
    "### Worst Case:\n",
    "Total time complexity: O(V) + O(V²) = O(V²)\n",
    "\n",
    "### Average Case:\n",
    "The average case for Dijkstra's algorithm with an adjacency matrix and array-based priority queue is also O(V²). This is because regardless of the graph's structure, we always perform the same number of operations:\n",
    "- We always check all V vertices to find the minimum distance vertex.\n",
    "- We always check all V potential edges for each vertex.\n",
    "\n",
    "### Best Case:\n",
    "Even in the best case scenario (e.g., a graph where all vertices are directly connected to the source with no other edges), the time complexity remains O(V²). This is because:\n",
    "- We still initialize all data structures: O(V)\n",
    "- We still go through the main loop V times: O(V)\n",
    "- In each iteration, we still check all V vertices to find the minimum: O(V)\n",
    "- We still check all potential edges for each vertex: O(V)\n",
    "\n",
    "So, the best case is also O(V²).\n",
    "\n",
    "## Space Complexity:\n",
    "\n",
    "The space complexity of this implementation can be broken down as follows:\n",
    "\n",
    "1. Adjacency Matrix: O(V²)\n",
    "   - The graph is represented as a V x V matrix.\n",
    "\n",
    "2. Distance Array: O(V)\n",
    "   - We store a distance value for each vertex.\n",
    "\n",
    "3. Visited Array: O(V)\n",
    "   - We keep track of visited status for each vertex.\n",
    "\n",
    "4. Other Variables: O(1)\n",
    "   - A constant amount of space for loop variables and temporary storage.\n",
    "\n",
    "Total Space Complexity: O(V²) + O(V) + O(V) + O(1) = O(V²)\n",
    "\n",
    "The dominant factor is the adjacency matrix, which requires O(V²) space regardless of the number of edges in the graph. This makes the implementation memory-intensive for large graphs, especially sparse ones.\n",
    "\n",
    "## Calculations:\n",
    "\n",
    "Let's calculate the space requirements for different graph sizes:\n",
    "\n",
    "1. For V = 100:\n",
    "   Space ≈ 100² * 4 bytes (assuming 32-bit integers) = 40,000 bytes ≈ 39 KB\n",
    "\n",
    "2. For V = 1,000:\n",
    "   Space ≈ 1,000² * 4 bytes = 4,000,000 bytes ≈ 3.8 MB\n",
    "\n",
    "3. For V = 10,000:\n",
    "   Space ≈ 10,000² * 4 bytes = 400,000,000 bytes ≈ 381 MB\n",
    "\n",
    "As we can see, the space requirement grows quadratically with the number of vertices, which can become prohibitive for very large graphs.\n",
    "\n",
    "## Conclusion:\n",
    "\n",
    "The time complexity of this Dijkstra's algorithm implementation is O(V²) in all cases (worst, average, and best) due to the use of an adjacency matrix and array-based priority queue. The space complexity is also O(V²), primarily due to the adjacency matrix representation.\n",
    "\n",
    "While this implementation is simple and can be efficient for small to medium-sized dense graphs, it may not be the best choice for large graphs or sparse graphs. For such cases, an implementation using an adjacency list and a more efficient priority queue (like a binary heap) would be more appropriate, potentially reducing the time complexity to O((V + E) log V) and the space complexity to O(V + E)."
   ]
  },
  {
   "cell_type": "code",
   "execution_count": null,
   "metadata": {},
   "outputs": [],
   "source": []
  }
 ],
 "metadata": {
  "kernelspec": {
   "display_name": "Python 3 (ipykernel)",
   "language": "python",
   "name": "python3"
  },
  "language_info": {
   "codemirror_mode": {
    "name": "ipython",
    "version": 3
   },
   "file_extension": ".py",
   "mimetype": "text/x-python",
   "name": "python",
   "nbconvert_exporter": "python",
   "pygments_lexer": "ipython3",
   "version": "3.11.7"
  }
 },
 "nbformat": 4,
 "nbformat_minor": 4
}
